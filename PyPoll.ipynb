{
 "cells": [
  {
   "cell_type": "code",
   "execution_count": 20,
   "metadata": {},
   "outputs": [
    {
     "name": "stdout",
     "output_type": "stream",
     "text": [
      "Election Results\n",
      "----------------\n",
      "Total Votes 3521001\n",
      "----------------\n",
      "Khan 64.000% (2218231)\n",
      "Correy 20.000% (704200)\n",
      "Li 14.000% (492940)\n",
      "O'Tooley 3.000% (105630)\n",
      "----------------\n",
      "Winner: Khan\n"
     ]
    }
   ],
   "source": [
    "import os \n",
    "import csv\n",
    "\n",
    "#need to define the variables before you open the CSV otherwise you can't use the variable. \n",
    "\n",
    "csvpath = os.path.join('election_data.csv')\n",
    "\n",
    "candidate_dic = {}\n",
    "\n",
    "with open(csvpath, newline='') as csvfile:\n",
    "    csvreader = csv.reader(csvfile, delimiter=',')\n",
    "    csv_header = next(csvreader)\n",
    "    \n",
    "    #dont need information in the first row\n",
    "    #print(f\"CSV Header: {csv_header}\")\n",
    "\n",
    "    for row in csvreader: \n",
    "        if candidate_dic.get(row[2]):\n",
    "            candidate_dic[row[2]] += 1\n",
    "        else:\n",
    "            candidate_dic[row[2]] = 1\n",
    "\n",
    "#print(candidate_dic)   \n",
    "\n",
    "total_votes = sum(candidate_dic.values())\n",
    "#print(total_votes)\n",
    "\n",
    "#print('Total Votes {}'.format(total_votes))\n",
    "\n",
    "#def election_results(election_results)\n",
    "    #import math\n",
    "        #for candidate in candidate_dic:\n",
    "            #percent = candidate_dic[candidate]/total_votes * 100\n",
    "            #print('{} {:.3f}% ({})'.format(candidate, math.ceil(percent), candidate_dic[candidate]))\n",
    "    \n",
    "\n",
    "\n",
    "max_votes = max(candidate_dic.values())\n",
    "#winner = ''\n",
    "for candidate, votes in candidate_dic.items():\n",
    "    if votes == max_votes:\n",
    "        winner = candidate\n",
    "\n",
    "print(\"Election Results\")\n",
    "print(\"----------------\")\n",
    "\n",
    "print(\"Total Votes {}\".format(total_votes))\n",
    "print(\"----------------\")\n",
    "\n",
    "import math\n",
    "for candidate in candidate_dic:\n",
    "    percent = candidate_dic[candidate]/total_votes * 100\n",
    "    print('{} {:.3f}% ({})'.format(candidate, math.ceil(percent), candidate_dic[candidate]))\n",
    "\n",
    "print(\"----------------\")\n",
    "print(\"Winner: {}\" .format(winner))\n"
   ]
  },
  {
   "cell_type": "code",
   "execution_count": 8,
   "metadata": {},
   "outputs": [
    {
     "data": {
      "text/plain": [
       "3521001"
      ]
     },
     "execution_count": 8,
     "metadata": {},
     "output_type": "execute_result"
    }
   ],
   "source": [
    "total_votes = sum(candidate_dic.values())\n",
    "total_votes"
   ]
  },
  {
   "cell_type": "code",
   "execution_count": 9,
   "metadata": {},
   "outputs": [
    {
     "name": "stdout",
     "output_type": "stream",
     "text": [
      "Total Votes 3521001\n"
     ]
    }
   ],
   "source": [
    "print('Total Votes {}'.format(total_votes))"
   ]
  },
  {
   "cell_type": "code",
   "execution_count": 27,
   "metadata": {},
   "outputs": [
    {
     "name": "stdout",
     "output_type": "stream",
     "text": [
      "Khan 64.000% (2218231)\n",
      "Correy 20.000% (704200)\n",
      "Li 14.000% (492940)\n",
      "O'Tooley 3.000% (105630)\n"
     ]
    }
   ],
   "source": [
    "import math\n",
    "for candidate in candidate_dic:\n",
    "    percent = candidate_dic[candidate]/total_votes * 100\n",
    "    print('{} {:.3f}% ({})'.format(candidate, math.ceil(percent), candidate_dic[candidate]))"
   ]
  },
  {
   "cell_type": "code",
   "execution_count": 11,
   "metadata": {},
   "outputs": [
    {
     "name": "stdout",
     "output_type": "stream",
     "text": [
      "Winner is Khan\n"
     ]
    }
   ],
   "source": [
    "max_votes = max(candidate_dic.values())\n",
    "winner = ''\n",
    "for candidate, votes in candidate_dic.items():\n",
    "    if votes == max_votes:\n",
    "        winner = candidate\n",
    "        break\n",
    "\n",
    "print('Winner is {}'.format(winner))\n"
   ]
  },
  {
   "cell_type": "code",
   "execution_count": 22,
   "metadata": {},
   "outputs": [
    {
     "name": "stdout",
     "output_type": "stream",
     "text": [
      "None\n"
     ]
    }
   ],
   "source": [
    "dic = {}\n",
    "print(dic.get('Khan'))"
   ]
  },
  {
   "cell_type": "code",
   "execution_count": 23,
   "metadata": {},
   "outputs": [
    {
     "name": "stdout",
     "output_type": "stream",
     "text": [
      "No\n"
     ]
    }
   ],
   "source": [
    "if dic.get('Khan'):\n",
    "    print('Yes')\n",
    "else:\n",
    "    print('No')\n",
    "    dic['Khan'] = 1"
   ]
  },
  {
   "cell_type": "code",
   "execution_count": 24,
   "metadata": {},
   "outputs": [
    {
     "name": "stdout",
     "output_type": "stream",
     "text": [
      "Yes\n"
     ]
    }
   ],
   "source": [
    "if dic.get('Khan'):\n",
    "    print('Yes')\n",
    "    dic['Khan'] = dic['Khan'] + 1\n",
    "else:\n",
    "    print('No')\n",
    "    dic['Khan'] = 1"
   ]
  },
  {
   "cell_type": "code",
   "execution_count": 25,
   "metadata": {},
   "outputs": [
    {
     "data": {
      "text/plain": [
       "{'Khan': 2}"
      ]
     },
     "execution_count": 25,
     "metadata": {},
     "output_type": "execute_result"
    }
   ],
   "source": [
    "dic"
   ]
  },
  {
   "cell_type": "code",
   "execution_count": null,
   "metadata": {},
   "outputs": [],
   "source": []
  }
 ],
 "metadata": {
  "kernelspec": {
   "display_name": "Python 3",
   "language": "python",
   "name": "python3"
  },
  "language_info": {
   "codemirror_mode": {
    "name": "ipython",
    "version": 3
   },
   "file_extension": ".py",
   "mimetype": "text/x-python",
   "name": "python",
   "nbconvert_exporter": "python",
   "pygments_lexer": "ipython3",
   "version": "3.7.0"
  }
 },
 "nbformat": 4,
 "nbformat_minor": 2
}
